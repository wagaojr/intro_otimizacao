{
 "cells": [
  {
   "cell_type": "markdown",
   "metadata": {},
   "source": [
    "### COM361 &mdash; Introdução a Otimização &mdash; 2024, Prof. Amit ###\n",
    "\n",
    "# Controle de Fake News #\n",
    "\n",
    "#### Wagner Franco da Silva Junior (wagnerjunior@poli.ufrj.br)\n",
    "\n",
    "*****\n",
    "\n",
    "### Índice\n",
    "\n",
    "1. [Introdução](#1.-Introdução)\n",
    "1. [Modelo ISR](#2.-Modelo-ISR)\n",
    "1. [Função Objetivo](#3.A.-Função-Objetivo)\n",
    "1. [Controle Ótimo](#4.-Controle-Ótimo)\n",
    "1. [Restrições Orçamentárias](#5.-Restrições-Orçamentárias)\n",
    "1. [Controle em Tempo Real](#6.-Controle-Em-Tempo-Real)\n",
    "1. [Incertezas](#7-Incertezas)\n",
    "1. [Conclusão](#8.-Conclusão)"
   ]
  },
  {
   "cell_type": "markdown",
   "metadata": {
    "collapsed": true
   },
   "source": [
    "## 1. Introdução ##\n",
    "\n",
    "O trabalho tem por objetivo realizar o controle ótimo de um problema de epidemiologia social, que são as fake news. Atualmente com o avanço da tecnologia, as fake news se tornaram um problema cada vez mais grave principalmente para pessoas mais leigas com relação aos perigos que a internet pode proporcionar, sendo alvos fáceis. A partir disso, foi fornecido um modelo discreto do problema onde será feita a otimização:\n",
    "\n",
    "$$ x_1(k + 1) = x_1(k) - \\beta x_1(k)x_2(k) - bu(k)x_1(k) $$\n",
    "$$ x_2(k + 1) = x_2(k) + \\beta x_1(k)x_2(k) - \\gamma x_2(k)^2 $$\n",
    "\n",
    "$x_1(k)$ representa os ignorantes/indecisos \n",
    "\n",
    "$x_2(k)$ representa os espalhadores de fake news \n",
    "\n",
    "$u(k)$ representa o nosso controle, que pode ser visto como \"vacinas\" de educação \n",
    "\n",
    "A partir dessas informações e através do modelo ISR, será proposta uma função objetivo que se adeque ao sistema e feito o controle ótimo e um controle em tempo real."
   ]
  },
  {
   "cell_type": "markdown",
   "metadata": {},
   "source": [
    "## 2. Modelo ISR ##\n",
    "\n",
    "O modelo ISR (Ignorant - Spreader - Recovered) para propagação de fake news se baseia em algumas premissas para seu funcionamento, que são as seguintes:\n",
    "\n",
    "I + S = 2S (Um propagador consegue converter um ignorante a outro propagador)\n",
    "\n",
    "S + S = S + R (Dois propagadores ao se encontrarem, um deles percebe que a informação já é bem conhecida e \"desanima\" de espalhar)\n",
    "\n",
    "S + R = 2R (Um recuperado consegue converter um propagador)\n",
    "\n",
    "As taxas de conversão são justamente as constantes estabelecidas no modelo, $\\beta$ é a taxa de conversão de um ignorante para propagador e $\\gamma$ é a taxa de um propagador para recuperado."
   ]
  },
  {
   "cell_type": "markdown",
   "metadata": {},
   "source": [
    "## 3. Função Objetivo ##\n",
    "\n",
    "Para a escolha da função objetivo foi feito uma análise da discussão da página 223 onde é introduzido o conceito de reprodução básica, que diz que o número mínimo que a informação vai continuar se espalhando é de $R_0$ = $\\dfrac{\\gamma}{\\beta}$, e a partir disso sabemos que a taxa de aumento nos propagadores precisa ser menor que esse valor, assim temos que:\n",
    "\n",
    "$$ x_1(k) + x_2(k) < \\dfrac{\\gamma}{\\beta} $$\n",
    "\n",
    "Dessa forma, tendo em vista que o objetivo central de toda a otimização é minimizar o número de propagadores, a função objetivo precisa minimizar tanto o custo de controle (de forma a evitar esforços desnecessários) e minimizar a diferença $x_1(k) + x_2(k) - \\dfrac{\\gamma}{\\beta}$ para garantir que o valor encontrado seja de fato ótimo.\n",
    "\n",
    "Assim, basta que integremos no horizonte a seguinte função: \n",
    "\n",
    "$$\n",
    "J = \\int_{0}^{T_f} \\left[ R \\cdot u(t)^2 + Q \\cdot \\left( x_1(t) + x_2(t) - \\frac{\\gamma}{\\beta} \\right)^2 \\right] dt,\n",
    "$$\n",
    "onde:\n",
    "- \\(R\\): penaliza o esforço de controle $u(t)$.\n",
    "- \\(Q\\): penaliza o desvio do estado $(x_1(t) + x_2(t)$ em relação ao objetivo $\\frac{\\gamma}{\\beta}$.\n",
    "- $u(t)$: controle.\n"
   ]
  },
  {
   "cell_type": "markdown",
   "metadata": {},
   "source": [
    "## 4. Controle Ótimo ##"
   ]
  },
  {
   "cell_type": "code",
   "execution_count": null,
   "metadata": {},
   "outputs": [],
   "source": []
  },
  {
   "cell_type": "markdown",
   "metadata": {},
   "source": [
    "## 5. Restrições Orçamentárias ##"
   ]
  },
  {
   "cell_type": "code",
   "execution_count": null,
   "metadata": {},
   "outputs": [],
   "source": []
  },
  {
   "cell_type": "markdown",
   "metadata": {},
   "source": [
    "## 6. Controle em Tempo Real ##"
   ]
  },
  {
   "cell_type": "code",
   "execution_count": null,
   "metadata": {},
   "outputs": [],
   "source": []
  },
  {
   "cell_type": "markdown",
   "metadata": {},
   "source": [
    "## 7. Incertezas ##"
   ]
  },
  {
   "cell_type": "markdown",
   "metadata": {
    "collapsed": true
   },
   "source": [
    "## 2. Modelo matemático ##\n",
    "\n",
    "Esta seção deve conter uma discussão das hipóteses de modelagem feitas no problema (conforme a origem do problema: física? economia? redes sociais? ...). Explique a escolha das variáveis de decisão, as restrições e a função objetivo. Finalmente, mostre o problema de otimização escrite em forma padrão. Discute o tipo de modelo adotado (LP, QP, MIP, etc.). Equações devem ser formatadas em $\\LaTeX$ dentro do notebook Julia. Nesta seção, pode supor que **o leitor está familiarizado com a matéria\"**.\n",
    "\n",
    "Eis um exemplo de uma equação:\n",
    "\n",
    "$$\n",
    "\\begin{bmatrix}\n",
    "  1 & 2 \\\\\n",
    "  3 & 4\n",
    "\\end{bmatrix}\n",
    "\\begin{bmatrix} x \\\\ y \\end{bmatrix} =\n",
    "\\begin{bmatrix} 5 \\\\ 6 \\end{bmatrix}\n",
    "$$\n",
    "\n",
    "Aqui está um exemplo de um problema de otimização no formato padrão:\n",
    "\n",
    "$$\n",
    "\\begin{aligned}\n",
    "\\underset{x \\in \\mathbb{R^n}}{\\text{maximize}}\\qquad& f_0(x) \\\\\n",
    "\\text{sujeito a:}\\qquad& f_i(x) \\le 0 && i=1,\\dots,m\\\\\n",
    "& h_j(x) = 0 && j=1,\\dots,r\n",
    "\\end{aligned}\n",
    "$$\n",
    "\n",
    "Para algumas dicas rápidas sobre a utilizção de $\\LaTeX$, veja [este cheat sheet](http://users.dickinson.edu/~richesod/latex/latexcheatsheet.pdf)."
   ]
  },
  {
   "cell_type": "markdown",
   "metadata": {
    "collapsed": true
   },
   "source": [
    "## 3. Solução ##\n",
    "\n",
    "Nesta seção, coloque seu código em Julia + JuMP e resolva o problema proposto. Seu código deve ser limpo (não macarrônico!), de fácil leitura, bem comentado e anotado e deve compilar sem erros em Julia 1.x, x$\\geq 1$! Não valem códigos em outras linguagens. **Vou rodar seu código para avaliar seu projeto**. Sugiro a utilização de múltiplos blocos de códigos separados por blocos de texto (células Markdown) explicando as várias partes da sua solução. Sugiro também a resolução de várias versões do seu problema, com modelos e hipóteses diferentes.\n",
    "\n",
    "É permitido chamar pacotes externos, mas evite a utilização de bibliotecas exóticas (pois, em geral, não rodam em todas as versões de Julia, e terei que instalar a mesma versão que você usou, ou rodar na plataforma Google Colab, que gostaria de evitar)."
   ]
  },
  {
   "cell_type": "code",
   "execution_count": 3,
   "metadata": {},
   "outputs": [
    {
     "name": "stdout",
     "output_type": "stream",
     "text": [
      "O número total de cavalos é: 10.0\n",
      "O número total de jegues é: 0.0\n",
      "O número total de cabras é: 0.0\n"
     ]
    }
   ],
   "source": [
    "# Este é um exemplo de um bloco de código\n",
    "using JuMP, Clp\n",
    "m = Model(with_optimizer(Clp.Optimizer,LogLevel=0) )\n",
    "bichos = [:cavalos, :jegues, :cabras]  # estes são os bichos \n",
    "@variable(m, x[bichos] >= 0)          # as quantidades de cada um (não podem ser negativas)\n",
    "@constraint(m, sum(x) <= 10)          # não podemos ter mais de 10 no total.\n",
    "@objective(m, Max, x[:cavalos])        # queremos maximizar o número de cavalos\n",
    "optimize!(m)\n",
    "\n",
    "for i in bichos\n",
    "    println(\"O número total de \", i, \" é: \", JuMP.value.(x[i]))     # imprime o resultado na tela\n",
    "end"
   ]
  },
  {
   "cell_type": "markdown",
   "metadata": {},
   "source": [
    "**Tenha certeza de que seu código compila corretamente! Rodarei seu código!**"
   ]
  },
  {
   "cell_type": "markdown",
   "metadata": {
    "collapsed": true
   },
   "source": [
    "## 4. Resultados e discussão ##\n",
    "\n",
    "Neste seção, os resultados obtidos serão exibidos e discutidos. Mostre figuras, gráficos, imagens, curvas de compromisso, e o que mais puder melhor ilustrar seus resultados. A discussão deverá explicar o que significam os resultados e como interpretá-los. As limitações da sua abordagem/modelo também devem ser colocadas, bem como uma análise da sensibilidade dos resultados em relação às hipóteses feitas.\n",
    "\n",
    "\n",
    "Utilize plots (veja exemplos  `PyPlot` [aqui](https://gist.github.com/gizmaa/7214002))\n",
    "\n",
    "Aqui está um exemplo de uma tabela (em Markdown):\n",
    "\n",
    "| Tabelas        | São           | Boas  |\n",
    "| ------------- |:-------------:| -----:|\n",
    "| col 3 é      | alinhado à direita |\\$1600 |\n",
    "| col 2 é      | centrado      |  \\$12 |\n",
    "| texto | também serve      |   \\$1 |\n",
    "\n",
    "### 4.A. Subseções devem ser utilizadas para organizar seu texto.\n",
    "\n",
    "#### 4.A.a. ou até subsubseções."
   ]
  },
  {
   "cell_type": "markdown",
   "metadata": {
    "collapsed": true
   },
   "source": [
    "## 5. Conclusão ##\n",
    "\n",
    "Faça um resumo do que encontrou e dos seus resultados, e fale de pelo menos uma direção na qual  seu trabalho pode ser desenvolvido no futuro, algo que poderia ser interessante em decorrência do seu projeto.\n"
   ]
  },
  {
   "cell_type": "markdown",
   "metadata": {},
   "source": [
    "## 6. Fontes e referências"
   ]
  }
 ],
 "metadata": {
  "@webio": {
   "lastCommId": null,
   "lastKernelId": null
  },
  "kernelspec": {
   "display_name": "Julia 1.1.0",
   "language": "julia",
   "name": "julia-1.1"
  },
  "language_info": {
   "file_extension": ".jl",
   "mimetype": "application/julia",
   "name": "julia",
   "version": "1.1.0"
  }
 },
 "nbformat": 4,
 "nbformat_minor": 1
}
