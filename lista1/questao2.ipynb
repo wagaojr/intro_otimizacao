{
 "cells": [
  {
   "cell_type": "code",
   "execution_count": 1,
   "metadata": {},
   "outputs": [
    {
     "name": "stdout",
     "output_type": "stream",
     "text": [
      " 13.113649 seconds (909.60 k allocations: 63.951 MiB, 1.22% gc time, 0.38% compilation time)\n",
      "  1.161937 seconds (166.83 k allocations: 10.231 MiB, 11.14% gc time)\n",
      " 35.795546 seconds (734.29 k allocations: 53.815 MiB, 0.25% gc time, 5.81% compilation time: 63% of which was recompilation)\n"
     ]
    }
   ],
   "source": [
    "@time using Clp\n",
    "@time using JuMP\n",
    "@time using PyPlot"
   ]
  },
  {
   "cell_type": "markdown",
   "metadata": {},
   "source": [
    "## Problema 2: (Tipos de PL)\n",
    "\n",
    "Determine o tipo (inviável, solução ilimitada, solução ótima limitada) dos seguintes PL. Mostre sua resolução de cada caso graficamente.\n",
    "$$\n",
    "\\begin{array}{rcl}\n",
    "\\text{maximize}   & x_1 + x_2  &   \\\\\n",
    "\\text{sujeito a}  & 2x_1 + x_2 & \\leq 1 \\\\\n",
    "                  & x_1 + x_2  & \\geq 2 \\\\\n",
    "                  & x_1,x_2    & \\geq 0\n",
    "\\end{array}\n",
    "$$\n",
    "\n",
    "--------------------------------------------\n",
    "\n",
    "$$\n",
    "\\begin{array}{rcl}\n",
    "\\text{maximize}   & 3x_1 + x_2  &   \\\\\n",
    "\\text{sujeito a}  & 2x_1 + x_2 & \\geq 1 \\\\\n",
    "                  & x_1,x_2    & \\geq 0\n",
    "\\end{array}\n",
    "$$\n",
    "\n",
    "--------------------------------------------\n",
    "\n",
    "$$\n",
    "\\begin{array}{rcl}\n",
    "\\text{maximize}   & 12x_1 + 10x_2  &   \\\\\n",
    "\\text{sujeito a}  & x_1 + x_2 & \\leq 20 \\\\\n",
    "                  & 0.5x_1 + x_2   & \\leq 12 \\\\\n",
    "                  & \\frac{1}{16}x_1 + \\frac{1}{24}x_2   & \\leq 1 \\\\\n",
    "                  & 12x_1 - 8x_2  & \\geq 0 \\\\\n",
    "                  &  x_1,x_2  & \\geq 0\n",
    "\\end{array}\n",
    "$$\n"
   ]
  },
  {
   "cell_type": "markdown",
   "metadata": {},
   "source": [
    "### Solução do Problema 2"
   ]
  },
  {
   "cell_type": "code",
   "execution_count": 4,
   "metadata": {},
   "outputs": [
    {
     "name": "stdout",
     "output_type": "stream",
     "text": [
      "Status da Solução: INFEASIBLE\n",
      "Coin0507I Presolve determined that the problem was infeasible with tolerance of 1e-08\n",
      "Clp3003W Analysis indicates model infeasible or unbounded\n",
      "Clp0006I 0  Obj 0 Primal inf 1.9999999 (1) Dual inf 1.9999998 (2)\n",
      "Clp0006I 1  Obj 0 Primal inf 0.9999999 (1)\n",
      "Clp0001I Primal infeasible - objective value 0\n",
      "Clp0032I PrimalInfeasible objective 0 - 1 iterations time 0.002\n",
      "Coin0507I Presolve determined that the problem was infeasible with tolerance of 1e-08\n",
      "Clp3003W Analysis indicates model infeasible or unbounded\n",
      "Clp0006I 0  Obj 0 Primal inf 1.9999999 (1) Dual inf 1.9999998 (2)\n",
      "Clp0006I 1  Obj 0 Primal inf 0.9999999 (1)\n",
      "Clp0001I Primal infeasible - objective value 0\n",
      "Clp0032I PrimalInfeasible objective 0 - 1 iterations time 0.002\n",
      "Coin0507I Presolve determined that the problem was infeasible with tolerance of 1e-08\n",
      "Clp3003W Analysis indicates model infeasible or unbounded\n",
      "Clp0006I 0  Obj 0 Primal inf 1.9999999 (1) Dual inf 1.9999998 (2)\n",
      "Clp0006I 1  Obj 0 Primal inf 0.9999999 (1)\n",
      "Clp0001I Primal infeasible - objective value 0\n",
      "Clp0032I PrimalInfeasible objective 0 - 1 iterations time 0.002\n"
     ]
    }
   ],
   "source": [
    "m = Model(Clp.Optimizer)\n",
    "@variable(m, x1 >= 0)\n",
    "@variable(m, x2 >= 0)\n",
    "@constraint(m, 2x1 + x2 <= 1)\n",
    "@constraint(m, x1 + x2 >= 2)\n",
    "@objective(m, Max, x1 + x2)\n",
    "\n",
    "optimize!(m)\n",
    "\n",
    "status = termination_status(m)\n",
    "println(\"Status da Solução: \", status)\n"
   ]
  },
  {
   "cell_type": "code",
   "execution_count": 5,
   "metadata": {},
   "outputs": [
    {
     "name": "stdout",
     "output_type": "stream",
     "text": [
      "Status da Solução: DUAL_INFEASIBLE\n",
      "Coin0508I Presolve thinks problem is unbounded\n",
      "Clp3003W Analysis indicates model infeasible or unbounded\n",
      "Clp0006I 0  Obj 0 Primal inf 0.9999999 (1) Dual inf 3.9999998 (2)\n",
      "Clp0002I Dual infeasible - objective value 4e+10\n",
      "Clp0032I DualInfeasible objective 4e+10 - 0 iterations time 0.002\n"
     ]
    }
   ],
   "source": [
    "m = Model(Clp.Optimizer)\n",
    "@variable(m, x1 >= 0)\n",
    "@variable(m, x2 >= 0)\n",
    "@constraint(m, 2x1 + x2 >= 1)\n",
    "@objective(m, Max, 3x1 + x2)\n",
    "\n",
    "optimize!(m)\n",
    "\n",
    "status = termination_status(m)\n",
    "println(\"Status da Solução: \", status)"
   ]
  },
  {
   "cell_type": "code",
   "execution_count": 6,
   "metadata": {},
   "outputs": [
    {
     "name": "stdout",
     "output_type": "stream",
     "text": [
      "Status da Solução: OPTIMAL\n",
      "Coin0506I Presolve 4 (0) rows, 2 (0) columns and 8 (0) elements\n",
      "Clp0006I 0  Obj 0 Dual inf 22 (2)\n",
      "Clp0006I 3  Obj 204\n",
      "Clp0000I Optimal - objective value 204\n",
      "Clp0032I Optimal objective 204 - 3 iterations time 0.002\n"
     ]
    }
   ],
   "source": [
    "m = Model(Clp.Optimizer)\n",
    "@variable(m, x1 >= 0)\n",
    "@variable(m, x2 >= 0)\n",
    "@constraint(m, x1 + x2 <= 20)\n",
    "@constraint(m, 0.5x1 + x2 <= 12)\n",
    "@constraint(m, x1/16 + x2/24 <= 1)\n",
    "@constraint(m, 12x1 - 8x2 >= 0)\n",
    "@objective(m, Max, 12x1 + 10x2)\n",
    "\n",
    "optimize!(m)\n",
    "\n",
    "status = termination_status(m)\n",
    "println(\"Status da Solução: \", status)"
   ]
  }
 ],
 "metadata": {
  "kernelspec": {
   "display_name": "Julia 1.10.5",
   "language": "julia",
   "name": "julia-1.10"
  },
  "language_info": {
   "file_extension": ".jl",
   "mimetype": "application/julia",
   "name": "julia",
   "version": "1.10.5"
  }
 },
 "nbformat": 4,
 "nbformat_minor": 2
}
