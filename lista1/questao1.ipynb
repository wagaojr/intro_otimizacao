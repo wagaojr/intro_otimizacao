{
 "cells": [
  {
   "cell_type": "code",
   "execution_count": 1,
   "metadata": {},
   "outputs": [
    {
     "name": "stdout",
     "output_type": "stream",
     "text": [
      " 18.304791 seconds (909.60 k allocations: 63.951 MiB, 0.84% gc time, 0.21% compilation time)\n",
      "  0.785383 seconds (166.83 k allocations: 10.230 MiB, 18.57% gc time)\n",
      " 39.611853 seconds (734.29 k allocations: 53.815 MiB, 0.24% gc time, 3.63% compilation time: 93% of which was recompilation)\n"
     ]
    }
   ],
   "source": [
    "@time using Clp\n",
    "@time using JuMP\n",
    "@time using PyPlot"
   ]
  },
  {
   "cell_type": "code",
   "execution_count": 2,
   "metadata": {},
   "outputs": [
    {
     "name": "stdout",
     "output_type": "stream",
     "text": [
      "Julia Version 1.10.5\n",
      "Commit 6f3fdf7b362 (2024-08-27 14:19 UTC)\n",
      "Build Info:\n",
      "  Official https://julialang.org/ release\n",
      "Platform Info:\n",
      "  OS: Linux (x86_64-linux-gnu)\n",
      "  CPU: 4 × Intel(R) Core(TM) i3-7020U CPU @ 2.30GHz\n",
      "  WORD_SIZE: 64\n",
      "  LIBM: libopenlibm\n",
      "  LLVM: libLLVM-15.0.7 (ORCJIT, skylake)\n",
      "Threads: 1 default, 0 interactive, 1 GC (on 4 virtual cores)\n",
      "Environment:\n",
      "  JULIA_NUM_THREADS = \n"
     ]
    }
   ],
   "source": [
    "versioninfo()"
   ]
  },
  {
   "cell_type": "markdown",
   "metadata": {},
   "source": [
    "## Problema 1: (Solução de sistema linear via LP e forma padrão) \n",
    "\n",
    "Considere o sistema de equações lineares abaixo:\n",
    "\n",
    "$$\n",
    "\\begin{array}{rlr}\n",
    "2x_1 - x_2 + x_3 & = & 2\\\\\n",
    "3x_1 + 5x_2 + 5x_3 & = & 3.5 \\\\\n",
    "x_1 + x_2 + x_3 & = & 0.5\n",
    "\\end{array}\n",
    "$$\n",
    "\n",
    " - Determina a solução do sistema transformando-o em programa linear (PL), utilizando JuMP/Julia. _Dica_: Utilize o conjunto de \"Transformation tricks\" (slides 3-21 em diante). O desafio passa a ser a definição de uma função objetivo adequada!\n",
    " - Escreva o PL que você definiu no item anterior na forma padrão $\\max {c}^\\top {x}$, sujeito a ${Ax}\\leq {b}, {x}\\geq 0$. Resolva de novo em JuMP, utilizando a forma padrão matricial. Compare as soluções obtidas."
   ]
  },
  {
   "cell_type": "markdown",
   "metadata": {},
   "source": [
    "### Solução do Problema 1"
   ]
  },
  {
   "cell_type": "markdown",
   "metadata": {},
   "source": [
    "Para formular o problema como um programa linear, primeiro se faz necessário a escolha de uma função custo adequada ao problema, dessa forma será utilizada a soma das variáveis de forma que não aja nenhum peso e simplifique a otimização, garantindo uma factibilidade maior.\n",
    " \n",
    "\\begin{align*}\n",
    "\\text{minimizar} \\quad & x_1 + x_2 + x_3 \\\\\n",
    "\\text{sujeito a} \\quad & 2x_1 - x_2 + x_3 = 2 \\\\\n",
    "& 3x_1 + 5x_2 + 5x_3 = 3.5 \\\\\n",
    "& x_1 + x_2 + x_3 = 0.5 \\\\\n",
    "& x_1, x_2, x_3 \\in \\mathbb{R}\n",
    "\\end{align*}\n",
    "\n"
   ]
  },
  {
   "cell_type": "code",
   "execution_count": 9,
   "metadata": {},
   "outputs": [
    {
     "name": "stdout",
     "output_type": "stream",
     "text": [
      "Min x1 + 8 x2 + x3\n",
      "Subject to\n",
      " 2 x1 - x2 + x3 = 2\n",
      " 3 x1 + 5 x2 + 5 x3 = 3.5\n",
      " x1 + x2 + x3 = 0.5\n",
      "\n",
      "\n",
      "x1 = -0.5\n",
      "x2 = -1.0\n",
      "x3 = 2.0\n",
      "Coin0506I Presolve 0 (-3) rows, 0 (-3) columns and 0 (-9) elements\n",
      "Clp3002W Empty problem - 0 rows, 0 columns and 0 elements\n",
      "Clp0000I Optimal - objective value -6.5\n",
      "Coin0511I After Postsolve, objective -6.5, infeasibilities - dual 0 (0), primal 0 (0)\n",
      "Clp0032I Optimal objective -6.5 - 0 iterations time 0.002, Presolve 0.00\n"
     ]
    }
   ],
   "source": [
    "m = Model(Clp.Optimizer)\n",
    "@variable(m, x1)\n",
    "@variable(m, x2)\n",
    "@variable(m, x3)\n",
    "@constraint(m, 2x1 - x2 + x3 == 2)\n",
    "@constraint(m, 3x1 + 5x2 + 5x3 == 3.5)\n",
    "@constraint(m, x1 + x2 + x3 == 0.5)\n",
    "@objective(m, Min, x1 + x2 + x3)\n",
    "\n",
    "optimize!(m)\n",
    "\n",
    "println(m)\n",
    "println()\n",
    "println(\"x1 = \", value(x1))\n",
    "println(\"x2 = \", value(x2))\n",
    "println(\"x3 = \", value(x3))"
   ]
  },
  {
   "cell_type": "markdown",
   "metadata": {},
   "source": [
    "### Forma Padrão de Programação Linear\n",
    "\n",
    "Colocando o programa linear na forma padrão temos que escrever na forma matricial e limitar $$\\mathbf{A} \\mathbf{x} \\leq \\mathbf{b}$$\n",
    "Dessa forma tem-se a seguinte representação:\n",
    "\n",
    "\n",
    "\n",
    "maximizar:\n",
    "\n",
    "$$\n",
    "\\mathbf{c}^\\top \\mathbf{x} = \\begin{bmatrix} 1 & 1 & 1 \\end{bmatrix} \\begin{bmatrix} x_1 \\\\ x_2 \\\\ x_3 \\end{bmatrix}\n",
    "$$\n",
    "\n",
    "sujeito a:\n",
    "\n",
    "$$\n",
    "\\begin{bmatrix} \n",
    "2 & -1 & 1 \\\\ \n",
    "3 & 5 & 5 \\\\ \n",
    "1 & 1 & 1 \n",
    "\\end{bmatrix} \\begin{bmatrix} x_1 \\\\ x_2 \\\\ x_3 \\end{bmatrix} \\leq \\begin{bmatrix} 2 \\\\ 3.5 \\\\ 0.5 \\end{bmatrix}\n",
    "$$\n",
    "$$\n",
    "x_1, x_2, x_3 \\geq 0\n",
    "$$\n"
   ]
  },
  {
   "cell_type": "code",
   "execution_count": 11,
   "metadata": {},
   "outputs": [
    {
     "name": "stdout",
     "output_type": "stream",
     "text": [
      "Max x1 + x2 + x3\n",
      "Subject to\n",
      " 2 x1 - x2 + x3 ≤ 2\n",
      " 3 x1 + 5 x2 + 5 x3 ≤ 3.5\n",
      " x1 + x2 + x3 ≤ 0.5\n",
      " x1 ≥ 0\n",
      " x2 ≥ 0\n",
      " x3 ≥ 0\n",
      "\n",
      "\n",
      "x1 = 0.0\n",
      "x2 = 0.5\n",
      "x3 = 0.0\n",
      "Coin0506I Presolve 2 (-1) rows, 2 (-1) columns and 4 (-5) elements\n",
      "Clp0006I 0  Obj -0 Dual inf 1.999998 (2)\n",
      "Clp0006I 2  Obj 0.5\n",
      "Clp0000I Optimal - objective value 0.5\n",
      "Coin0511I After Postsolve, objective 0.5, infeasibilities - dual 0 (0), primal 0 (0)\n",
      "Clp0032I Optimal objective 0.5 - 2 iterations time 0.002, Presolve 0.00\n"
     ]
    }
   ],
   "source": [
    "m = Model(Clp.Optimizer)\n",
    "@variable(m, x1 >= 0)\n",
    "@variable(m, x2 >= 0)\n",
    "@variable(m, x3 >= 0)\n",
    "@constraint(m, 2x1 - x2 + x3 <= 2)\n",
    "@constraint(m, 3x1 + 5x2 + 5x3 <= 3.5)\n",
    "@constraint(m, x1 + x2 + x3 <= 0.5)\n",
    "@objective(m, Max, x1 + x2 + x3)\n",
    "\n",
    "optimize!(m)\n",
    "\n",
    "println(m)\n",
    "println()\n",
    "println(\"x1 = \", value(x1))\n",
    "println(\"x2 = \", value(x2))\n",
    "println(\"x3 = \", value(x3))"
   ]
  },
  {
   "cell_type": "markdown",
   "metadata": {},
   "source": [
    "Os resultados se diferem pelo fato de que na programação linear tem-se primeiramente uma minimização e sem nenhuma restrição de negatividade, quanto que com a forma padrão foi feita uma maximização na função custo com as restrições de $$ x \\geq 0$$ e $$\\mathbf{A} \\mathbf{x} \\leq \\mathbf{b}$$ "
   ]
  }
 ],
 "metadata": {
  "kernelspec": {
   "display_name": "Julia 1.10.5",
   "language": "julia",
   "name": "julia-1.10"
  },
  "language_info": {
   "file_extension": ".jl",
   "mimetype": "application/julia",
   "name": "julia",
   "version": "1.10.5"
  }
 },
 "nbformat": 4,
 "nbformat_minor": 2
}
